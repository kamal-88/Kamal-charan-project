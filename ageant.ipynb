{
 "cells": [
  {
   "cell_type": "code",
   "execution_count": 1,
   "id": "7c5954ad",
   "metadata": {},
   "outputs": [],
   "source": [
    "import boto3"
   ]
  },
  {
   "cell_type": "code",
   "execution_count": 2,
   "id": "c8d37a58",
   "metadata": {},
   "outputs": [],
   "source": [
    "x = boto3.client(\"s3\")"
   ]
  },
  {
   "cell_type": "code",
   "execution_count": 6,
   "id": "39d8916e",
   "metadata": {},
   "outputs": [
    {
     "data": {
      "text/plain": [
       "{'ResponseMetadata': {'RequestId': 'YGNRJW3HKQAVDEJB',\n",
       "  'HostId': 'F26OoVWvF1YLCc6bkdu02Ffod3enrUTQTiVaAQsbqfaEEv6S1QldnXs/tSUSyWdNl/4TdTLxBOk=',\n",
       "  'HTTPStatusCode': 200,\n",
       "  'HTTPHeaders': {'x-amz-id-2': 'F26OoVWvF1YLCc6bkdu02Ffod3enrUTQTiVaAQsbqfaEEv6S1QldnXs/tSUSyWdNl/4TdTLxBOk=',\n",
       "   'x-amz-request-id': 'YGNRJW3HKQAVDEJB',\n",
       "   'date': 'Mon, 25 Aug 2025 08:00:39 GMT',\n",
       "   'content-type': 'application/xml',\n",
       "   'transfer-encoding': 'chunked',\n",
       "   'server': 'AmazonS3'},\n",
       "  'RetryAttempts': 0},\n",
       " 'Buckets': [{'Name': 'kamal08project',\n",
       "   'CreationDate': datetime.datetime(2025, 8, 25, 7, 30, 45, tzinfo=tzutc())}],\n",
       " 'Owner': {'ID': 'f4e8ec4cc55deb49acf74003f5bff69e06dc40df0ebed3e908cd325c824e9edd'}}"
      ]
     },
     "execution_count": 6,
     "metadata": {},
     "output_type": "execute_result"
    }
   ],
   "source": [
    "x.list_buckets()"
   ]
  },
  {
   "cell_type": "code",
   "execution_count": 7,
   "id": "5c689ebb",
   "metadata": {},
   "outputs": [
    {
     "data": {
      "text/plain": [
       "{'ResponseMetadata': {'RequestId': 'QQ3H2NZ9RTPYX86C',\n",
       "  'HostId': 'ASXWK9hme2ur6YGlck9IXL9vTrVmLub1YLSD/V5fn7bMy8qM4JeN/mFmzbJ9nsBg5qctyCzDra5z3GicurPBMsrryXLyHuEU',\n",
       "  'HTTPStatusCode': 200,\n",
       "  'HTTPHeaders': {'x-amz-id-2': 'ASXWK9hme2ur6YGlck9IXL9vTrVmLub1YLSD/V5fn7bMy8qM4JeN/mFmzbJ9nsBg5qctyCzDra5z3GicurPBMsrryXLyHuEU',\n",
       "   'x-amz-request-id': 'QQ3H2NZ9RTPYX86C',\n",
       "   'date': 'Mon, 25 Aug 2025 08:00:42 GMT',\n",
       "   'x-amz-bucket-region': 'eu-north-1',\n",
       "   'content-type': 'application/xml',\n",
       "   'transfer-encoding': 'chunked',\n",
       "   'server': 'AmazonS3'},\n",
       "  'RetryAttempts': 0},\n",
       " 'IsTruncated': False,\n",
       " 'Marker': '',\n",
       " 'Contents': [{'Key': 'asdaffgh/',\n",
       "   'LastModified': datetime.datetime(2025, 8, 25, 7, 31, 48, tzinfo=tzutc()),\n",
       "   'ETag': '\"d41d8cd98f00b204e9800998ecf8427e\"',\n",
       "   'ChecksumAlgorithm': ['CRC64NVME'],\n",
       "   'ChecksumType': 'FULL_OBJECT',\n",
       "   'Size': 0,\n",
       "   'StorageClass': 'STANDARD',\n",
       "   'Owner': {'ID': 'f4e8ec4cc55deb49acf74003f5bff69e06dc40df0ebed3e908cd325c824e9edd'}},\n",
       "  {'Key': 'asdaffgh/PDC.pdf',\n",
       "   'LastModified': datetime.datetime(2025, 8, 25, 7, 59, 27, tzinfo=tzutc()),\n",
       "   'ETag': '\"957bf0a81d01acc2d2f0b140ca394f95\"',\n",
       "   'ChecksumAlgorithm': ['CRC64NVME'],\n",
       "   'ChecksumType': 'FULL_OBJECT',\n",
       "   'Size': 316766,\n",
       "   'StorageClass': 'STANDARD',\n",
       "   'Owner': {'ID': 'f4e8ec4cc55deb49acf74003f5bff69e06dc40df0ebed3e908cd325c824e9edd'}},\n",
       "  {'Key': 'final_marksheet.pdf',\n",
       "   'LastModified': datetime.datetime(2025, 8, 25, 8, 0, 24, tzinfo=tzutc()),\n",
       "   'ETag': '\"223fea062779bbc6be4972fd074e8428\"',\n",
       "   'ChecksumAlgorithm': ['CRC64NVME'],\n",
       "   'ChecksumType': 'FULL_OBJECT',\n",
       "   'Size': 640027,\n",
       "   'StorageClass': 'STANDARD',\n",
       "   'Owner': {'ID': 'f4e8ec4cc55deb49acf74003f5bff69e06dc40df0ebed3e908cd325c824e9edd'}}],\n",
       " 'Name': 'kamal08project',\n",
       " 'Prefix': '',\n",
       " 'MaxKeys': 1000,\n",
       " 'EncodingType': 'url'}"
      ]
     },
     "execution_count": 7,
     "metadata": {},
     "output_type": "execute_result"
    }
   ],
   "source": [
    "x.list_objects(Bucket = \"kamal08project\")"
   ]
  },
  {
   "cell_type": "code",
   "execution_count": null,
   "id": "45b9c9a1",
   "metadata": {},
   "outputs": [],
   "source": []
  }
 ],
 "metadata": {
  "kernelspec": {
   "display_name": ".venv",
   "language": "python",
   "name": "python3"
  },
  "language_info": {
   "codemirror_mode": {
    "name": "ipython",
    "version": 3
   },
   "file_extension": ".py",
   "mimetype": "text/x-python",
   "name": "python",
   "nbconvert_exporter": "python",
   "pygments_lexer": "ipython3",
   "version": "3.13.5"
  }
 },
 "nbformat": 4,
 "nbformat_minor": 5
}
